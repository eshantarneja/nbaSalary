{
 "cells": [
  {
   "cell_type": "code",
   "execution_count": 27,
   "metadata": {},
   "outputs": [],
   "source": [
    "import pandas as pd\n",
    "import matplotlib as plt\n",
    "import regex as re"
   ]
  },
  {
   "cell_type": "code",
   "execution_count": 3,
   "metadata": {},
   "outputs": [
    {
     "data": {
      "text/html": [
       "<div>\n",
       "<style scoped>\n",
       "    .dataframe tbody tr th:only-of-type {\n",
       "        vertical-align: middle;\n",
       "    }\n",
       "\n",
       "    .dataframe tbody tr th {\n",
       "        vertical-align: top;\n",
       "    }\n",
       "\n",
       "    .dataframe thead th {\n",
       "        text-align: right;\n",
       "    }\n",
       "</style>\n",
       "<table border=\"1\" class=\"dataframe\">\n",
       "  <thead>\n",
       "    <tr style=\"text-align: right;\">\n",
       "      <th></th>\n",
       "      <th>Rk</th>\n",
       "      <th>Player</th>\n",
       "      <th>Pos</th>\n",
       "      <th>Age</th>\n",
       "      <th>Type</th>\n",
       "      <th>OTm</th>\n",
       "      <th>2018-19 Stats</th>\n",
       "      <th>WS</th>\n",
       "      <th>NTm</th>\n",
       "      <th>Terms</th>\n",
       "      <th>Notes</th>\n",
       "    </tr>\n",
       "  </thead>\n",
       "  <tbody>\n",
       "    <tr>\n",
       "      <th>0</th>\n",
       "      <td>NaN</td>\n",
       "      <td>NaN</td>\n",
       "      <td>NaN</td>\n",
       "      <td>NaN</td>\n",
       "      <td>NaN</td>\n",
       "      <td>NaN</td>\n",
       "      <td>NaN</td>\n",
       "      <td>NaN</td>\n",
       "      <td>NaN</td>\n",
       "      <td>NaN</td>\n",
       "      <td>NaN</td>\n",
       "    </tr>\n",
       "    <tr>\n",
       "      <th>1</th>\n",
       "      <td>1.0</td>\n",
       "      <td>Kevin Durant\\duranke01</td>\n",
       "      <td>F-G</td>\n",
       "      <td>31-365</td>\n",
       "      <td>UFA</td>\n",
       "      <td>GSW</td>\n",
       "      <td>26.0 Pts 6.4 Reb 5.9 Ast</td>\n",
       "      <td>11.5</td>\n",
       "      <td>BRK</td>\n",
       "      <td>Signed 4-yr $164.25M contract with GSW as part...</td>\n",
       "      <td>NaN</td>\n",
       "    </tr>\n",
       "    <tr>\n",
       "      <th>2</th>\n",
       "      <td>2.0</td>\n",
       "      <td>Nikola Vučević\\vucevni01</td>\n",
       "      <td>C</td>\n",
       "      <td>29-340</td>\n",
       "      <td>UFA</td>\n",
       "      <td>ORL</td>\n",
       "      <td>20.8 Pts 12.0 Reb 3.8 Ast</td>\n",
       "      <td>10.1</td>\n",
       "      <td>ORL</td>\n",
       "      <td>Signed 4-yr $100M contract</td>\n",
       "      <td>NaN</td>\n",
       "    </tr>\n",
       "    <tr>\n",
       "      <th>3</th>\n",
       "      <td>3.0</td>\n",
       "      <td>Kawhi Leonard\\leonaka01</td>\n",
       "      <td>F</td>\n",
       "      <td>29-091</td>\n",
       "      <td>UFA</td>\n",
       "      <td>TOR</td>\n",
       "      <td>26.6 Pts 7.3 Reb 3.3 Ast</td>\n",
       "      <td>9.5</td>\n",
       "      <td>LAC</td>\n",
       "      <td>Signed 3-yr $103.13M contract</td>\n",
       "      <td>NaN</td>\n",
       "    </tr>\n",
       "    <tr>\n",
       "      <th>4</th>\n",
       "      <td>4.0</td>\n",
       "      <td>Kyrie Irving\\irvinky01</td>\n",
       "      <td>G</td>\n",
       "      <td>28-189</td>\n",
       "      <td>UFA</td>\n",
       "      <td>BOS</td>\n",
       "      <td>23.8 Pts 5.0 Reb 6.9 Ast</td>\n",
       "      <td>9.1</td>\n",
       "      <td>BRK</td>\n",
       "      <td>Signed 4-yr $136.49M contract</td>\n",
       "      <td>NaN</td>\n",
       "    </tr>\n",
       "  </tbody>\n",
       "</table>\n",
       "</div>"
      ],
      "text/plain": [
       "    Rk                    Player  Pos     Age Type  OTm  \\\n",
       "0  NaN                       NaN  NaN     NaN  NaN  NaN   \n",
       "1  1.0    Kevin Durant\\duranke01  F-G  31-365  UFA  GSW   \n",
       "2  2.0  Nikola Vučević\\vucevni01    C  29-340  UFA  ORL   \n",
       "3  3.0   Kawhi Leonard\\leonaka01    F  29-091  UFA  TOR   \n",
       "4  4.0    Kyrie Irving\\irvinky01    G  28-189  UFA  BOS   \n",
       "\n",
       "               2018-19 Stats    WS  NTm  \\\n",
       "0                        NaN   NaN  NaN   \n",
       "1   26.0 Pts 6.4 Reb 5.9 Ast  11.5  BRK   \n",
       "2  20.8 Pts 12.0 Reb 3.8 Ast  10.1  ORL   \n",
       "3   26.6 Pts 7.3 Reb 3.3 Ast   9.5  LAC   \n",
       "4   23.8 Pts 5.0 Reb 6.9 Ast   9.1  BRK   \n",
       "\n",
       "                                               Terms  Notes  \n",
       "0                                                NaN    NaN  \n",
       "1  Signed 4-yr $164.25M contract with GSW as part...    NaN  \n",
       "2                         Signed 4-yr $100M contract    NaN  \n",
       "3                      Signed 3-yr $103.13M contract    NaN  \n",
       "4                      Signed 4-yr $136.49M contract    NaN  "
      ]
     },
     "execution_count": 3,
     "metadata": {},
     "output_type": "execute_result"
    }
   ],
   "source": [
    "df=pd.read_csv('/Users/eshantarneja/Documents/DataSets/nbaSalary/freeAgents/2019.csv')\n",
    "df.head()"
   ]
  },
  {
   "cell_type": "code",
   "execution_count": 13,
   "metadata": {},
   "outputs": [
    {
     "data": {
      "text/plain": [
       "str"
      ]
     },
     "execution_count": 13,
     "metadata": {},
     "output_type": "execute_result"
    }
   ],
   "source": [
    "df.loc[2,'Player'].split('\\\\')\n",
    "type(df.loc[2,'Player'])"
   ]
  },
  {
   "cell_type": "code",
   "execution_count": 16,
   "metadata": {},
   "outputs": [],
   "source": [
    "df[['Player', 'ID']]=df.Player.apply(lambda x: pd.Series(str(x).split('\\\\')))"
   ]
  },
  {
   "cell_type": "code",
   "execution_count": 17,
   "metadata": {},
   "outputs": [
    {
     "data": {
      "text/html": [
       "<div>\n",
       "<style scoped>\n",
       "    .dataframe tbody tr th:only-of-type {\n",
       "        vertical-align: middle;\n",
       "    }\n",
       "\n",
       "    .dataframe tbody tr th {\n",
       "        vertical-align: top;\n",
       "    }\n",
       "\n",
       "    .dataframe thead th {\n",
       "        text-align: right;\n",
       "    }\n",
       "</style>\n",
       "<table border=\"1\" class=\"dataframe\">\n",
       "  <thead>\n",
       "    <tr style=\"text-align: right;\">\n",
       "      <th></th>\n",
       "      <th>Rk</th>\n",
       "      <th>Player</th>\n",
       "      <th>Pos</th>\n",
       "      <th>Age</th>\n",
       "      <th>Type</th>\n",
       "      <th>OTm</th>\n",
       "      <th>2018-19 Stats</th>\n",
       "      <th>WS</th>\n",
       "      <th>NTm</th>\n",
       "      <th>Terms</th>\n",
       "      <th>Notes</th>\n",
       "      <th>ID</th>\n",
       "    </tr>\n",
       "  </thead>\n",
       "  <tbody>\n",
       "    <tr>\n",
       "      <th>0</th>\n",
       "      <td>NaN</td>\n",
       "      <td>nan</td>\n",
       "      <td>NaN</td>\n",
       "      <td>NaN</td>\n",
       "      <td>NaN</td>\n",
       "      <td>NaN</td>\n",
       "      <td>NaN</td>\n",
       "      <td>NaN</td>\n",
       "      <td>NaN</td>\n",
       "      <td>NaN</td>\n",
       "      <td>NaN</td>\n",
       "      <td>NaN</td>\n",
       "    </tr>\n",
       "    <tr>\n",
       "      <th>1</th>\n",
       "      <td>1.0</td>\n",
       "      <td>Kevin Durant</td>\n",
       "      <td>F-G</td>\n",
       "      <td>31-365</td>\n",
       "      <td>UFA</td>\n",
       "      <td>GSW</td>\n",
       "      <td>26.0 Pts 6.4 Reb 5.9 Ast</td>\n",
       "      <td>11.5</td>\n",
       "      <td>BRK</td>\n",
       "      <td>Signed 4-yr $164.25M contract with GSW as part...</td>\n",
       "      <td>NaN</td>\n",
       "      <td>duranke01</td>\n",
       "    </tr>\n",
       "    <tr>\n",
       "      <th>2</th>\n",
       "      <td>2.0</td>\n",
       "      <td>Nikola Vučević</td>\n",
       "      <td>C</td>\n",
       "      <td>29-340</td>\n",
       "      <td>UFA</td>\n",
       "      <td>ORL</td>\n",
       "      <td>20.8 Pts 12.0 Reb 3.8 Ast</td>\n",
       "      <td>10.1</td>\n",
       "      <td>ORL</td>\n",
       "      <td>Signed 4-yr $100M contract</td>\n",
       "      <td>NaN</td>\n",
       "      <td>vucevni01</td>\n",
       "    </tr>\n",
       "    <tr>\n",
       "      <th>3</th>\n",
       "      <td>3.0</td>\n",
       "      <td>Kawhi Leonard</td>\n",
       "      <td>F</td>\n",
       "      <td>29-091</td>\n",
       "      <td>UFA</td>\n",
       "      <td>TOR</td>\n",
       "      <td>26.6 Pts 7.3 Reb 3.3 Ast</td>\n",
       "      <td>9.5</td>\n",
       "      <td>LAC</td>\n",
       "      <td>Signed 3-yr $103.13M contract</td>\n",
       "      <td>NaN</td>\n",
       "      <td>leonaka01</td>\n",
       "    </tr>\n",
       "    <tr>\n",
       "      <th>4</th>\n",
       "      <td>4.0</td>\n",
       "      <td>Kyrie Irving</td>\n",
       "      <td>G</td>\n",
       "      <td>28-189</td>\n",
       "      <td>UFA</td>\n",
       "      <td>BOS</td>\n",
       "      <td>23.8 Pts 5.0 Reb 6.9 Ast</td>\n",
       "      <td>9.1</td>\n",
       "      <td>BRK</td>\n",
       "      <td>Signed 4-yr $136.49M contract</td>\n",
       "      <td>NaN</td>\n",
       "      <td>irvinky01</td>\n",
       "    </tr>\n",
       "  </tbody>\n",
       "</table>\n",
       "</div>"
      ],
      "text/plain": [
       "    Rk          Player  Pos     Age Type  OTm              2018-19 Stats  \\\n",
       "0  NaN             nan  NaN     NaN  NaN  NaN                        NaN   \n",
       "1  1.0    Kevin Durant  F-G  31-365  UFA  GSW   26.0 Pts 6.4 Reb 5.9 Ast   \n",
       "2  2.0  Nikola Vučević    C  29-340  UFA  ORL  20.8 Pts 12.0 Reb 3.8 Ast   \n",
       "3  3.0   Kawhi Leonard    F  29-091  UFA  TOR   26.6 Pts 7.3 Reb 3.3 Ast   \n",
       "4  4.0    Kyrie Irving    G  28-189  UFA  BOS   23.8 Pts 5.0 Reb 6.9 Ast   \n",
       "\n",
       "     WS  NTm                                              Terms  Notes  \\\n",
       "0   NaN  NaN                                                NaN    NaN   \n",
       "1  11.5  BRK  Signed 4-yr $164.25M contract with GSW as part...    NaN   \n",
       "2  10.1  ORL                         Signed 4-yr $100M contract    NaN   \n",
       "3   9.5  LAC                      Signed 3-yr $103.13M contract    NaN   \n",
       "4   9.1  BRK                      Signed 4-yr $136.49M contract    NaN   \n",
       "\n",
       "          ID  \n",
       "0        NaN  \n",
       "1  duranke01  \n",
       "2  vucevni01  \n",
       "3  leonaka01  \n",
       "4  irvinky01  "
      ]
     },
     "execution_count": 17,
     "metadata": {},
     "output_type": "execute_result"
    }
   ],
   "source": [
    "df.head()"
   ]
  },
  {
   "cell_type": "code",
   "execution_count": 51,
   "metadata": {},
   "outputs": [
    {
     "name": "stdout",
     "output_type": "stream",
     "text": [
      "Signed 4-yr $164.25M contract with GSW as part of sign-and-trade\n"
     ]
    }
   ],
   "source": [
    "test=df.Terms[1]\n",
    "type(test)\n",
    "print(test)"
   ]
  },
  {
   "cell_type": "code",
   "execution_count": 52,
   "metadata": {},
   "outputs": [
    {
     "data": {
      "text/plain": [
       "[('4-yr', '$164.25M', ' with GSW as part of sign-and-trade')]"
      ]
     },
     "execution_count": 52,
     "metadata": {},
     "output_type": "execute_result"
    }
   ],
   "source": [
    "re.findall(\"Signed\\s(\\d-yr)\\s(\\$.+M)\\scontract(.*)\"\n",
    "           , test)\n",
    "\n",
    "\n",
    "\n",
    "# Signed\\s(\\d-yr)\\s(\\$.+M)\\scontract(.+)"
   ]
  },
  {
   "cell_type": "code",
   "execution_count": 53,
   "metadata": {},
   "outputs": [
    {
     "data": {
      "text/plain": [
       "0                                                     []\n",
       "1      [(4-yr, $164.25M,  with GSW as part of sign-an...\n",
       "2                                      [(4-yr, $100M, )]\n",
       "3                                   [(3-yr, $103.13M, )]\n",
       "4                                   [(4-yr, $136.49M, )]\n",
       "5      [(4-yr, $140.79M,  with PHI as part of sign-an...\n",
       "6                                      [(4-yr, $109M, )]\n",
       "7      [(4-yr, $140.79M,  with CHO as part of sign-an...\n",
       "8                                      [(5-yr, $180M, )]\n",
       "9                                    [(4-yr, $39.96M, )]\n",
       "10                                   [(3-yr, $43.63M, )]\n",
       "11                                    [(4-yr, $73.1M, )]\n",
       "12                                                    []\n",
       "13                                                    []\n",
       "14                                      [(4-yr, $52M, )]\n",
       "15     [(4-yr, $85M,  with MIL as part of sign-and-tr...\n",
       "16                                   [(5-yr, $177.5M, )]\n",
       "17                                   [(3-yr, $62.10M, )]\n",
       "18                                      [(3-yr, $15M, )]\n",
       "19                                      [(2-yr, $30M, )]\n",
       "20                                     [(2-yr, $8.2M, )]\n",
       "21                                    [(2-yr, $26.5M, )]\n",
       "22                                   [(3-yr, $29.16M, )]\n",
       "23                                    [(2-yr, $9.77M, )]\n",
       "24                                      [(3-yr, $25M, )]\n",
       "25                                    [(2-yr, $9.77M, )]\n",
       "26                                    [(3-yr, $31.5M, )]\n",
       "27                                                    []\n",
       "28                                      [(2-yr, $20M, )]\n",
       "29     [(4-yr, $117.32M,  with BRK as part of sign-an...\n",
       "                             ...                        \n",
       "258                                                   []\n",
       "259                                   [(2-yr, $3.14M, )]\n",
       "260                                   [(1-yr, $1.73M, )]\n",
       "261                                                   []\n",
       "262                                                   []\n",
       "263                                                   []\n",
       "264                                                   []\n",
       "265                                                   []\n",
       "266                                                   []\n",
       "267                                                   []\n",
       "268                                                   []\n",
       "269                                                   []\n",
       "270                                                   []\n",
       "271                                   [(1-yr, $2.56M, )]\n",
       "272                                                   []\n",
       "273                                                   []\n",
       "274                                                   []\n",
       "275                                                   []\n",
       "276                                                   []\n",
       "277                                                   []\n",
       "278                                                   []\n",
       "279                                                   []\n",
       "280                                                   []\n",
       "281                                 [(5-yr, $158.25M, )]\n",
       "282                                                   []\n",
       "283                                                   []\n",
       "284                                   [(2-yr, $3.38M, )]\n",
       "285                                                   []\n",
       "286                                                   []\n",
       "287                                                   []\n",
       "Name: Terms, Length: 288, dtype: object"
      ]
     },
     "execution_count": 53,
     "metadata": {},
     "output_type": "execute_result"
    }
   ],
   "source": [
    "pattern=\"Signed\\s(\\d-yr)\\s(\\$.+M)\\scontract(.*)\"\n",
    "df.Terms.apply(lambda x: re.findall(pattern, str(x)))"
   ]
  },
  {
   "cell_type": "code",
   "execution_count": 56,
   "metadata": {},
   "outputs": [],
   "source": [
    "test=df.Terms[283]"
   ]
  },
  {
   "cell_type": "code",
   "execution_count": 58,
   "metadata": {},
   "outputs": [
    {
     "data": {
      "text/plain": [
       "[('', '', '', '10')]"
      ]
     },
     "execution_count": 58,
     "metadata": {},
     "output_type": "execute_result"
    }
   ],
   "source": [
    "re.findall('Signed\\s(\\d-yr)\\s(\\$.+M)\\scontract(.*)|Signed\\sExhibit\\s(\\d+)\\scontract',test)"
   ]
  },
  {
   "cell_type": "code",
   "execution_count": null,
   "metadata": {},
   "outputs": [],
   "source": []
  }
 ],
 "metadata": {
  "kernelspec": {
   "display_name": "Python 3",
   "language": "python",
   "name": "python3"
  },
  "language_info": {
   "codemirror_mode": {
    "name": "ipython",
    "version": 3
   },
   "file_extension": ".py",
   "mimetype": "text/x-python",
   "name": "python",
   "nbconvert_exporter": "python",
   "pygments_lexer": "ipython3",
   "version": "3.6.4"
  }
 },
 "nbformat": 4,
 "nbformat_minor": 2
}
